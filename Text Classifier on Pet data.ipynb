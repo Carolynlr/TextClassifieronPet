{
 "cells": [
  {
   "cell_type": "markdown",
   "metadata": {
    "collapsed": false
   },
   "source": [
    "# Text Classifier on Pet data\n",
    "\n",
    "## Intro\n",
    "\n",
    "This notebook is intended to build a binary text classifier based on the data provided by Trupanion. The data used including a brief description for each item, the diagnosis and whether the item is flagged as preventive. There are 11000 observations in total and 1000 of them do not have labels on them. <br>\n",
    "\n",
    "For this problem, I only consider two columns -- ItemDescription and PreventiveFlag. The column of Diagnosis may also be useful to determine whether an item should be flagged or not. However, I will not explore it here."
   ]
  },
  {
   "cell_type": "code",
   "execution_count": 75,
   "metadata": {
    "collapsed": false
   },
   "outputs": [
    {
     "data": {
      "text/html": [
       "<div>\n",
       "<table border=\"1\" class=\"dataframe\">\n",
       "  <thead>\n",
       "    <tr style=\"text-align: right;\">\n",
       "      <th></th>\n",
       "      <th>id</th>\n",
       "      <th>ItemDescription</th>\n",
       "      <th>Diagnosis</th>\n",
       "      <th>PreventiveFlag</th>\n",
       "    </tr>\n",
       "  </thead>\n",
       "  <tbody>\n",
       "    <tr>\n",
       "      <th>0</th>\n",
       "      <td>1</td>\n",
       "      <td>Six:  Urgent Care Exam - Daytime (8am-6pm)</td>\n",
       "      <td>colitis</td>\n",
       "      <td>0.0</td>\n",
       "    </tr>\n",
       "    <tr>\n",
       "      <th>1</th>\n",
       "      <td>2</td>\n",
       "      <td>Jafar:  Office Visit/Physical Exam</td>\n",
       "      <td>Stomach Issues</td>\n",
       "      <td>0.0</td>\n",
       "    </tr>\n",
       "    <tr>\n",
       "      <th>2</th>\n",
       "      <td>3</td>\n",
       "      <td>Jafar:  Fecal Smears</td>\n",
       "      <td>Stomach Issues</td>\n",
       "      <td>0.0</td>\n",
       "    </tr>\n",
       "    <tr>\n",
       "      <th>3</th>\n",
       "      <td>4</td>\n",
       "      <td>Jafar:  metronidazole 50mg</td>\n",
       "      <td>Stomach Issues</td>\n",
       "      <td>0.0</td>\n",
       "    </tr>\n",
       "    <tr>\n",
       "      <th>4</th>\n",
       "      <td>5</td>\n",
       "      <td>Jafar:  Fecal analysis for parasites</td>\n",
       "      <td>Stomach Issues</td>\n",
       "      <td>0.0</td>\n",
       "    </tr>\n",
       "  </tbody>\n",
       "</table>\n",
       "</div>"
      ],
      "text/plain": [
       "   id                             ItemDescription        Diagnosis  \\\n",
       "0   1  Six:  Urgent Care Exam - Daytime (8am-6pm)         colitis    \n",
       "1   2          Jafar:  Office Visit/Physical Exam  Stomach Issues    \n",
       "2   3                       Jafar:  Fecal Smears   Stomach Issues    \n",
       "3   4                  Jafar:  metronidazole 50mg  Stomach Issues    \n",
       "4   5        Jafar:  Fecal analysis for parasites  Stomach Issues    \n",
       "\n",
       "   PreventiveFlag  \n",
       "0             0.0  \n",
       "1             0.0  \n",
       "2             0.0  \n",
       "3             0.0  \n",
       "4             0.0  "
      ]
     },
     "execution_count": 75,
     "metadata": {},
     "output_type": "execute_result"
    }
   ],
   "source": [
    "# Load data\n",
    "\n",
    "import pandas as pd\n",
    "    \n",
    "data = pd.read_csv('p2_data.csv', encoding = 'ISO-8859-1')\n",
    "data.head()"
   ]
  },
  {
   "cell_type": "markdown",
   "metadata": {},
   "source": [
    "## Explore the data\n",
    "To see the distribution of the data, I used a bar plot. From the plot, we can see that the data is imbalanced with about 93% being 0.0. "
   ]
  },
  {
   "cell_type": "code",
   "execution_count": 76,
   "metadata": {
    "collapsed": false
   },
   "outputs": [
    {
     "data": {
      "image/png": "[encoded data removed]",
      "text/plain": [
       "<matplotlib.figure.Figure at 0x117af4990>"
      ]
     },
     "metadata": {},
     "output_type": "display_data"
    },
    {
     "name": "stdout",
     "output_type": "stream",
     "text": [
      "PreventiveFlag\n",
      "0.0    9322\n",
      "1.0     678\n",
      "Name: ItemDescription, dtype: int64\n"
     ]
    }
   ],
   "source": [
    "import matplotlib.pyplot as plt\n",
    "\n",
    "fig = plt.figure(figsize = (7, 4))\n",
    "counts = data.groupby('PreventiveFlag').ItemDescription.count()\n",
    "counts.plot.bar(ylim = 0)\n",
    "plt.show()\n",
    "print counts"
   ]
  },
  {
   "cell_type": "markdown",
   "metadata": {},
   "source": [
    "## Data Preparation and Model Training\n",
    "\n",
    "The classifiers and learning algorithms can not directly process the text documents in their original form. Therefore, the first thing we need to do is to convert the texts into numerical feature vectors. The vectorization of features are done using Bag of Words model, a model that take the presence (and often the frequency) of words into consideration and TF-IDF, whose value represents the importance of a word to a document in a corpus. <br>\n",
    "\n",
    "One of the simplest model for a text classifier is Navie Bayes(NB), so I tried it first as a starter. <br>\n",
    "\n",
    "To make it easier, I built a pipeline for all the processes discussed. <br>"
   ]
  },
  {
   "cell_type": "code",
   "execution_count": 77,
   "metadata": {
    "collapsed": false
   },
   "outputs": [],
   "source": [
    "from sklearn.model_selection import train_test_split\n",
    "\n",
    "# Randomly separate training and testing data\n",
    "\n",
    "x_train, x_test, y_train, y_test = train_test_split(data['ItemDescription'][: 10000], data['PreventiveFlag'][: 10000], \n",
    "                                                    test_size = 0.2, random_state = 0)"
   ]
  },
  {
   "cell_type": "code",
   "execution_count": 78,
   "metadata": {
    "collapsed": false
   },
   "outputs": [],
   "source": [
    "from sklearn.pipeline import Pipeline\n",
    "from sklearn.feature_extraction.text import CountVectorizer\n",
    "from sklearn.feature_extraction.text import TfidfTransformer\n",
    "from sklearn.naive_bayes import MultinomialNB\n",
    "\n",
    "# Build a pipeline for data preparation and model training\n",
    "\n",
    "text_clf = Pipeline([('vect', CountVectorizer()),\n",
    "                     ('tfidf', TfidfTransformer()),\n",
    "                     ('clf', MultinomialNB()),\n",
    "])\n",
    "text_clf = text_clf.fit(x_train, y_train)"
   ]
  },
  {
   "cell_type": "code",
   "execution_count": 79,
   "metadata": {
    "collapsed": false
   },
   "outputs": [
    {
     "data": {
      "text/plain": [
       "0.968"
      ]
     },
     "execution_count": 79,
     "metadata": {},
     "output_type": "execute_result"
    }
   ],
   "source": [
    "# Make Predictions\n",
    "\n",
    "import numpy as np\n",
    "\n",
    "# Calculate accuracy\n",
    "\n",
    "predicted = text_clf.predict(x_test)\n",
    "np.mean(predicted == y_test)"
   ]
  },
  {
   "cell_type": "markdown",
   "metadata": {},
   "source": [
    "## Model Selection\n",
    "\n",
    "I want to choose the best model for this problem. Therefore, I ran mutiple models, including NB, Linear SVM and Logistic Regression, and then tried to identify the best one among them. In order to do so, I used cross validataion and set accuracy as the metric. <br>"
   ]
  },
  {
   "cell_type": "code",
   "execution_count": 80,
   "metadata": {
    "collapsed": false
   },
   "outputs": [],
   "source": [
    "# Prepare data for model selection\n",
    "\n",
    "from sklearn.feature_extraction.text import TfidfVectorizer\n",
    "\n",
    "data_train = data[: 10000]\n",
    "tfidf = TfidfVectorizer(sublinear_tf = True, norm = 'l2', stop_words = 'english')\n",
    "features = tfidf.fit_transform(data_train.ItemDescription).toarray()\n",
    "labels = data_train.PreventiveFlag"
   ]
  },
  {
   "cell_type": "code",
   "execution_count": 81,
   "metadata": {
    "collapsed": false
   },
   "outputs": [
    {
     "data": {
      "text/html": [
       "<div>\n",
       "<table border=\"1\" class=\"dataframe\">\n",
       "  <thead>\n",
       "    <tr style=\"text-align: right;\">\n",
       "      <th></th>\n",
       "      <th>model_name</th>\n",
       "      <th>fold_idx</th>\n",
       "      <th>accuracy</th>\n",
       "    </tr>\n",
       "  </thead>\n",
       "  <tbody>\n",
       "    <tr>\n",
       "      <th>0</th>\n",
       "      <td>LinearSVC</td>\n",
       "      <td>0</td>\n",
       "      <td>0.960020</td>\n",
       "    </tr>\n",
       "    <tr>\n",
       "      <th>1</th>\n",
       "      <td>LinearSVC</td>\n",
       "      <td>1</td>\n",
       "      <td>0.972514</td>\n",
       "    </tr>\n",
       "    <tr>\n",
       "      <th>2</th>\n",
       "      <td>LinearSVC</td>\n",
       "      <td>2</td>\n",
       "      <td>0.973500</td>\n",
       "    </tr>\n",
       "    <tr>\n",
       "      <th>3</th>\n",
       "      <td>LinearSVC</td>\n",
       "      <td>3</td>\n",
       "      <td>0.972486</td>\n",
       "    </tr>\n",
       "    <tr>\n",
       "      <th>4</th>\n",
       "      <td>LinearSVC</td>\n",
       "      <td>4</td>\n",
       "      <td>0.970985</td>\n",
       "    </tr>\n",
       "    <tr>\n",
       "      <th>5</th>\n",
       "      <td>MultinomialNB</td>\n",
       "      <td>0</td>\n",
       "      <td>0.953523</td>\n",
       "    </tr>\n",
       "    <tr>\n",
       "      <th>6</th>\n",
       "      <td>MultinomialNB</td>\n",
       "      <td>1</td>\n",
       "      <td>0.957021</td>\n",
       "    </tr>\n",
       "    <tr>\n",
       "      <th>7</th>\n",
       "      <td>MultinomialNB</td>\n",
       "      <td>2</td>\n",
       "      <td>0.962500</td>\n",
       "    </tr>\n",
       "    <tr>\n",
       "      <th>8</th>\n",
       "      <td>MultinomialNB</td>\n",
       "      <td>3</td>\n",
       "      <td>0.962481</td>\n",
       "    </tr>\n",
       "    <tr>\n",
       "      <th>9</th>\n",
       "      <td>MultinomialNB</td>\n",
       "      <td>4</td>\n",
       "      <td>0.960480</td>\n",
       "    </tr>\n",
       "    <tr>\n",
       "      <th>10</th>\n",
       "      <td>LogisticRegression</td>\n",
       "      <td>0</td>\n",
       "      <td>0.952024</td>\n",
       "    </tr>\n",
       "    <tr>\n",
       "      <th>11</th>\n",
       "      <td>LogisticRegression</td>\n",
       "      <td>1</td>\n",
       "      <td>0.952524</td>\n",
       "    </tr>\n",
       "    <tr>\n",
       "      <th>12</th>\n",
       "      <td>LogisticRegression</td>\n",
       "      <td>2</td>\n",
       "      <td>0.957500</td>\n",
       "    </tr>\n",
       "    <tr>\n",
       "      <th>13</th>\n",
       "      <td>LogisticRegression</td>\n",
       "      <td>3</td>\n",
       "      <td>0.957479</td>\n",
       "    </tr>\n",
       "    <tr>\n",
       "      <th>14</th>\n",
       "      <td>LogisticRegression</td>\n",
       "      <td>4</td>\n",
       "      <td>0.952476</td>\n",
       "    </tr>\n",
       "  </tbody>\n",
       "</table>\n",
       "</div>"
      ],
      "text/plain": [
       "            model_name  fold_idx  accuracy\n",
       "0            LinearSVC         0  0.960020\n",
       "1            LinearSVC         1  0.972514\n",
       "2            LinearSVC         2  0.973500\n",
       "3            LinearSVC         3  0.972486\n",
       "4            LinearSVC         4  0.970985\n",
       "5        MultinomialNB         0  0.953523\n",
       "6        MultinomialNB         1  0.957021\n",
       "7        MultinomialNB         2  0.962500\n",
       "8        MultinomialNB         3  0.962481\n",
       "9        MultinomialNB         4  0.960480\n",
       "10  LogisticRegression         0  0.952024\n",
       "11  LogisticRegression         1  0.952524\n",
       "12  LogisticRegression         2  0.957500\n",
       "13  LogisticRegression         3  0.957479\n",
       "14  LogisticRegression         4  0.952476"
      ]
     },
     "execution_count": 81,
     "metadata": {},
     "output_type": "execute_result"
    }
   ],
   "source": [
    "# Import necessary libraries\n",
    "\n",
    "from sklearn.linear_model import LogisticRegression\n",
    "from sklearn.svm import LinearSVC\n",
    "from sklearn.model_selection import cross_val_score\n",
    "\n",
    "# Set models to choose from\n",
    "\n",
    "models = [\n",
    "    LinearSVC(),\n",
    "    MultinomialNB(),\n",
    "    LogisticRegression(random_state = 0),\n",
    "]\n",
    "\n",
    "# Cross validation\n",
    "\n",
    "CV = 5\n",
    "cv_df = pd.DataFrame(index = range(CV * len(models)))\n",
    "entries_accuracy = []\n",
    "for model in models:\n",
    "    model_name = model.__class__.__name__\n",
    "    accuracies = cross_val_score(model, features, labels, scoring = 'accuracy', cv = CV)\n",
    "    for fold_idx, accuracy in enumerate(accuracies):\n",
    "        entries_accuracy.append((model_name, fold_idx, accuracy))\n",
    "cv_df_accuracy = pd.DataFrame(entries_accuracy, columns = ['model_name', 'fold_idx', 'accuracy'])\n",
    "cv_df_accuracy"
   ]
  },
  {
   "cell_type": "code",
   "execution_count": 82,
   "metadata": {
    "collapsed": false
   },
   "outputs": [
    {
     "data": {
      "text/plain": [
       "model_name\n",
       "LinearSVC             0.969901\n",
       "LogisticRegression    0.954401\n",
       "MultinomialNB         0.959201\n",
       "Name: accuracy, dtype: float64"
      ]
     },
     "execution_count": 82,
     "metadata": {},
     "output_type": "execute_result"
    }
   ],
   "source": [
    "# Mean accuracy for each model\n",
    "\n",
    "cv_df_accuracy.groupby('model_name').accuracy.mean()"
   ]
  },
  {
   "cell_type": "code",
   "execution_count": 83,
   "metadata": {
    "collapsed": false
   },
   "outputs": [
    {
     "data": {
      "image/png": "[encoded data removed]",
      "text/plain": [
       "<matplotlib.figure.Figure at 0x120b54d90>"
      ]
     },
     "metadata": {},
     "output_type": "display_data"
    }
   ],
   "source": [
    "# Plot out the results\n",
    "\n",
    "import seaborn as sns\n",
    "sns.boxplot(x = 'model_name', y = 'accuracy', data = cv_df_accuracy)\n",
    "sns.stripplot(x = 'model_name', y = 'accuracy', data = cv_df_accuracy, \n",
    "              size = 8, jitter = True, edgecolor = \"gray\", linewidth = 2)\n",
    "plt.show()"
   ]
  },
  {
   "cell_type": "markdown",
   "metadata": {},
   "source": [
    "The results above tell us that every model perfomed very well for our data, being able to achieve a mean accuracy more than 95%. However, one thing that worth notice is that our data is highly imbalanced, with 93% observatiosn falling into the negative category. That is to say, even the classifier classify all our observation as 0.0, it is still able to achieve an accuracy of 93%. Therefore, accuracy alone is not reliable in our case. <br>\n",
    "\n",
    "Then I changed the metric to precision instead as it is more focused in the positive class than in the negative class. It measures the probability of correct detection of positive values, which is also our focus."
   ]
  },
  {
   "cell_type": "code",
   "execution_count": 84,
   "metadata": {
    "collapsed": false
   },
   "outputs": [
    {
     "data": {
      "text/html": [
       "<div>\n",
       "<table border=\"1\" class=\"dataframe\">\n",
       "  <thead>\n",
       "    <tr style=\"text-align: right;\">\n",
       "      <th></th>\n",
       "      <th>model_name</th>\n",
       "      <th>fold_idx</th>\n",
       "      <th>precision</th>\n",
       "    </tr>\n",
       "  </thead>\n",
       "  <tbody>\n",
       "    <tr>\n",
       "      <th>0</th>\n",
       "      <td>LinearSVC</td>\n",
       "      <td>0</td>\n",
       "      <td>0.718750</td>\n",
       "    </tr>\n",
       "    <tr>\n",
       "      <th>1</th>\n",
       "      <td>LinearSVC</td>\n",
       "      <td>1</td>\n",
       "      <td>0.909091</td>\n",
       "    </tr>\n",
       "    <tr>\n",
       "      <th>2</th>\n",
       "      <td>LinearSVC</td>\n",
       "      <td>2</td>\n",
       "      <td>0.895238</td>\n",
       "    </tr>\n",
       "    <tr>\n",
       "      <th>3</th>\n",
       "      <td>LinearSVC</td>\n",
       "      <td>3</td>\n",
       "      <td>0.925532</td>\n",
       "    </tr>\n",
       "    <tr>\n",
       "      <th>4</th>\n",
       "      <td>LinearSVC</td>\n",
       "      <td>4</td>\n",
       "      <td>0.913978</td>\n",
       "    </tr>\n",
       "    <tr>\n",
       "      <th>5</th>\n",
       "      <td>MultinomialNB</td>\n",
       "      <td>0</td>\n",
       "      <td>0.736264</td>\n",
       "    </tr>\n",
       "    <tr>\n",
       "      <th>6</th>\n",
       "      <td>MultinomialNB</td>\n",
       "      <td>1</td>\n",
       "      <td>0.890625</td>\n",
       "    </tr>\n",
       "    <tr>\n",
       "      <th>7</th>\n",
       "      <td>MultinomialNB</td>\n",
       "      <td>2</td>\n",
       "      <td>0.906667</td>\n",
       "    </tr>\n",
       "    <tr>\n",
       "      <th>8</th>\n",
       "      <td>MultinomialNB</td>\n",
       "      <td>3</td>\n",
       "      <td>0.968750</td>\n",
       "    </tr>\n",
       "    <tr>\n",
       "      <th>9</th>\n",
       "      <td>MultinomialNB</td>\n",
       "      <td>4</td>\n",
       "      <td>0.951613</td>\n",
       "    </tr>\n",
       "    <tr>\n",
       "      <th>10</th>\n",
       "      <td>LogisticRegression</td>\n",
       "      <td>0</td>\n",
       "      <td>0.770270</td>\n",
       "    </tr>\n",
       "    <tr>\n",
       "      <th>11</th>\n",
       "      <td>LogisticRegression</td>\n",
       "      <td>1</td>\n",
       "      <td>0.936170</td>\n",
       "    </tr>\n",
       "    <tr>\n",
       "      <th>12</th>\n",
       "      <td>LogisticRegression</td>\n",
       "      <td>2</td>\n",
       "      <td>0.932203</td>\n",
       "    </tr>\n",
       "    <tr>\n",
       "      <th>13</th>\n",
       "      <td>LogisticRegression</td>\n",
       "      <td>3</td>\n",
       "      <td>0.962963</td>\n",
       "    </tr>\n",
       "    <tr>\n",
       "      <th>14</th>\n",
       "      <td>LogisticRegression</td>\n",
       "      <td>4</td>\n",
       "      <td>0.954545</td>\n",
       "    </tr>\n",
       "  </tbody>\n",
       "</table>\n",
       "</div>"
      ],
      "text/plain": [
       "            model_name  fold_idx  precision\n",
       "0            LinearSVC         0   0.718750\n",
       "1            LinearSVC         1   0.909091\n",
       "2            LinearSVC         2   0.895238\n",
       "3            LinearSVC         3   0.925532\n",
       "4            LinearSVC         4   0.913978\n",
       "5        MultinomialNB         0   0.736264\n",
       "6        MultinomialNB         1   0.890625\n",
       "7        MultinomialNB         2   0.906667\n",
       "8        MultinomialNB         3   0.968750\n",
       "9        MultinomialNB         4   0.951613\n",
       "10  LogisticRegression         0   0.770270\n",
       "11  LogisticRegression         1   0.936170\n",
       "12  LogisticRegression         2   0.932203\n",
       "13  LogisticRegression         3   0.962963\n",
       "14  LogisticRegression         4   0.954545"
      ]
     },
     "execution_count": 84,
     "metadata": {},
     "output_type": "execute_result"
    }
   ],
   "source": [
    "# Use precision instead\n",
    "\n",
    "entries_precision = []\n",
    "for model in models:\n",
    "    model_name = model.__class__.__name__\n",
    "    precisions = cross_val_score(model, features, labels, scoring = 'precision', cv = CV)\n",
    "    for fold_idx, precision in enumerate(precisions):\n",
    "        entries_precision.append((model_name, fold_idx, precision))\n",
    "cv_df_precision = pd.DataFrame(entries_precision, columns = ['model_name', 'fold_idx', 'precision'])\n",
    "cv_df_precision"
   ]
  },
  {
   "cell_type": "code",
   "execution_count": 85,
   "metadata": {
    "collapsed": false
   },
   "outputs": [
    {
     "data": {
      "text/plain": [
       "model_name\n",
       "LinearSVC             0.872518\n",
       "LogisticRegression    0.911230\n",
       "MultinomialNB         0.890784\n",
       "Name: precision, dtype: float64"
      ]
     },
     "execution_count": 85,
     "metadata": {},
     "output_type": "execute_result"
    }
   ],
   "source": [
    "# Mean precision for each model\n",
    "\n",
    "cv_df_precision.groupby('model_name').precision.mean()"
   ]
  },
  {
   "cell_type": "code",
   "execution_count": 86,
   "metadata": {
    "collapsed": false
   },
   "outputs": [
    {
     "data": {
      "image/png": "[encoded data removed]",
      "text/plain": [
       "<matplotlib.figure.Figure at 0x11821a810>"
      ]
     },
     "metadata": {},
     "output_type": "display_data"
    }
   ],
   "source": [
    "# Plot out the results\n",
    "\n",
    "sns.boxplot(x = 'model_name', y = 'precision', data = cv_df_precision)\n",
    "sns.stripplot(x = 'model_name', y = 'precision', data = cv_df_precision, \n",
    "              size = 8, jitter = True, edgecolor = \"gray\", linewidth = 2)\n",
    "plt.show()"
   ]
  },
  {
   "cell_type": "markdown",
   "metadata": {},
   "source": [
    "Since Logistics Regression has the highest precision, I chose it as my final model and trained it with the whole dataset. <br>\n",
    "\n",
    "At last, I made predictions based on the trained model."
   ]
  },
  {
   "cell_type": "code",
   "execution_count": 87,
   "metadata": {
    "collapsed": false
   },
   "outputs": [],
   "source": [
    "text_clf = Pipeline([('vect', CountVectorizer()),\n",
    "                     ('tfidf', TfidfTransformer()),\n",
    "                     ('clf', LogisticRegression(random_state = 0)),\n",
    "])\n",
    "text_clf_whole = text_clf.fit(data['ItemDescription'][: 10000], data['PreventiveFlag'][: 10000])"
   ]
  },
  {
   "cell_type": "code",
   "execution_count": 88,
   "metadata": {
    "collapsed": false
   },
   "outputs": [
    {
     "data": {
      "text/plain": [
       "array([[0.97208512, 0.02791488],\n",
       "       [0.96329326, 0.03670674],\n",
       "       [0.98768429, 0.01231571],\n",
       "       ...,\n",
       "       [0.92431392, 0.07568608],\n",
       "       [0.98380972, 0.01619028],\n",
       "       [0.97882529, 0.02117471]])"
      ]
     },
     "execution_count": 88,
     "metadata": {},
     "output_type": "execute_result"
    }
   ],
   "source": [
    "# Predict with probability\n",
    "\n",
    "predicted_prob = text_clf.predict_proba(data['ItemDescription'][10000:])\n",
    "predicted_prob"
   ]
  },
  {
   "cell_type": "code",
   "execution_count": 89,
   "metadata": {
    "collapsed": false
   },
   "outputs": [
    {
     "data": {
      "text/html": [
       "<div>\n",
       "<table border=\"1\" class=\"dataframe\">\n",
       "  <thead>\n",
       "    <tr style=\"text-align: right;\">\n",
       "      <th></th>\n",
       "      <th>Predicted_id</th>\n",
       "      <th>Prob of Non-flag</th>\n",
       "      <th>Prob of Flag</th>\n",
       "    </tr>\n",
       "  </thead>\n",
       "  <tbody>\n",
       "    <tr>\n",
       "      <th>0</th>\n",
       "      <td>10001</td>\n",
       "      <td>0.972085</td>\n",
       "      <td>0.027915</td>\n",
       "    </tr>\n",
       "    <tr>\n",
       "      <th>1</th>\n",
       "      <td>10002</td>\n",
       "      <td>0.963293</td>\n",
       "      <td>0.036707</td>\n",
       "    </tr>\n",
       "    <tr>\n",
       "      <th>2</th>\n",
       "      <td>10003</td>\n",
       "      <td>0.987684</td>\n",
       "      <td>0.012316</td>\n",
       "    </tr>\n",
       "    <tr>\n",
       "      <th>3</th>\n",
       "      <td>10004</td>\n",
       "      <td>0.978864</td>\n",
       "      <td>0.021136</td>\n",
       "    </tr>\n",
       "    <tr>\n",
       "      <th>4</th>\n",
       "      <td>10005</td>\n",
       "      <td>0.997743</td>\n",
       "      <td>0.002257</td>\n",
       "    </tr>\n",
       "  </tbody>\n",
       "</table>\n",
       "</div>"
      ],
      "text/plain": [
       "   Predicted_id  Prob of Non-flag  Prob of Flag\n",
       "0         10001          0.972085      0.027915\n",
       "1         10002          0.963293      0.036707\n",
       "2         10003          0.987684      0.012316\n",
       "3         10004          0.978864      0.021136\n",
       "4         10005          0.997743      0.002257"
      ]
     },
     "execution_count": 89,
     "metadata": {},
     "output_type": "execute_result"
    }
   ],
   "source": [
    "prediction = pd.DataFrame({'Prob of Non-flag': predicted_prob[:, 0],'Prob of Flag': predicted_prob[:, 1]})\n",
    "predicted_id = range(10001, 11001)\n",
    "prediction['Predicted_id'] = predicted_id\n",
    "prediction = prediction[['Predicted_id', 'Prob of Non-flag', 'Prob of Flag']]\n",
    "prediction.head()"
   ]
  },
  {
   "cell_type": "markdown",
   "metadata": {},
   "source": [
    "## Conclusion\n",
    "\n",
    "For this problem, I built a text classifier based on Logistic Regression and predicted with probablities for our unlabeled data. The features were extracted from the original text data, using Bag of Words and TF-IDF. I used precision as my model selection metric and chose the best model among Navie Bayes, Linear Support Vector Machin and Logistic Regression. <br>\n",
    "\n",
    "However, this doesn't necessarily indicate the end of the analysis of this data. There are several things we can try in the future to achieve a better result. For example, we can try to diversify our training corpus or have a more balanced data; more data pre-processing like stemming can be done to improve our feature quality; hyper-parameter tuning can help us to find a better model."
   ]
  },
  {
   "cell_type": "code",
   "execution_count": null,
   "metadata": {
    "collapsed": true
   },
   "outputs": [],
   "source": []
  }
 ],
 "metadata": {
  "kernelspec": {
   "display_name": "Python 2",
   "language": "python",
   "name": "python2"
  },
  "language_info": {
   "codemirror_mode": {
    "name": "ipython",
    "version": 2
   },
   "file_extension": ".py",
   "mimetype": "text/x-python",
   "name": "python",
   "nbconvert_exporter": "python",
   "pygments_lexer": "ipython2",
   "version": "2.7.6"
  }
 },
 "nbformat": 4,
 "nbformat_minor": 2
}
